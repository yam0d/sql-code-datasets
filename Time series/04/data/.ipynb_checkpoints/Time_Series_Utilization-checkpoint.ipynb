{
 "cells": [
  {
   "cell_type": "code",
   "execution_count": 10,
   "metadata": {},
   "outputs": [],
   "source": [
    "from datetime import datetime\n",
    "from datetime import timedelta\n",
    "from random import randint\n",
    "from random import uniform"
   ]
  },
  {
   "cell_type": "code",
   "execution_count": 19,
   "metadata": {},
   "outputs": [],
   "source": [
    "start_time = datetime.now()\n",
    "for server_id in range(100,10100):\n",
    "    cpu_seed = uniform(0.4,0.8)\n",
    "    for t in range(10000):\n",
    "        event_date = (datetime.now()+timedelta(minutes=t*5)).strftime(\"%m/%d/%Y %H:%M:%S\")\n",
    "        cpu_util = \"{:.2f}\".format(cpu_seed + uniform(-0.2,0.2))\n",
    "        free_mem = \"{:.2f}\".format(min(1 - cpu_seed + uniform(-0.2,0.2),0.99))\n",
    "        session_cnt = \"{:.0f}\".format((cpu_seed * 100) + uniform(-10,25))\n",
    "        print(event_date + \",\" + str(server_id) + \",\" + str(cpu_util) + \",\" + str(free_mem) + \",\" + str(session_cnt), file=open(\"utilization.txt\", \"a\"))"
   ]
  },
  {
   "cell_type": "code",
   "execution_count": null,
   "metadata": {
    "collapsed": true
   },
   "outputs": [],
   "source": []
  },
  {
   "cell_type": "code",
   "execution_count": null,
   "metadata": {
    "collapsed": true
   },
   "outputs": [],
   "source": []
  }
 ],
 "metadata": {
  "kernelspec": {
   "display_name": "Python 3",
   "language": "python",
   "name": "python3"
  },
  "language_info": {
   "codemirror_mode": {
    "name": "ipython",
    "version": 3
   },
   "file_extension": ".py",
   "mimetype": "text/x-python",
   "name": "python",
   "nbconvert_exporter": "python",
   "pygments_lexer": "ipython3",
   "version": "3.6.1"
  }
 },
 "nbformat": 4,
 "nbformat_minor": 2
}
